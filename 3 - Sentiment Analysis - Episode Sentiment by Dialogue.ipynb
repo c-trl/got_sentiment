{
 "cells": [
  {
   "cell_type": "code",
   "execution_count": 30,
   "metadata": {
    "collapsed": true
   },
   "outputs": [],
   "source": [
    "%matplotlib inline"
   ]
  },
  {
   "cell_type": "code",
   "execution_count": 29,
   "metadata": {
    "collapsed": true
   },
   "outputs": [],
   "source": [
    "import nltk"
   ]
  },
  {
   "cell_type": "code",
   "execution_count": 31,
   "metadata": {
    "collapsed": false,
    "scrolled": true
   },
   "outputs": [
    {
     "name": "stdout",
     "output_type": "stream",
     "text": [
      "got_script_01e01.txt 3535\n",
      "got_script_01e02.txt 4367\n",
      "got_script_01e03.txt 4621\n",
      "got_script_01e04.txt 6327\n",
      "got_script_01e05.txt 6667\n",
      "got_script_01e06.txt 4518\n",
      "got_script_01e07.txt 4883\n",
      "got_script_01e08.txt 4127\n",
      "got_script_01e09.txt 5523\n",
      "got_script_01e10.txt 4988\n",
      "got_script_02e01.txt 5984\n",
      "got_script_02e02.txt 6402\n",
      "got_script_02e03.txt 5226\n",
      "got_script_02e04.txt 5330\n",
      "got_script_02e05.txt 6811\n",
      "got_script_02e06.txt 5828\n",
      "got_script_02e07.txt 6640\n",
      "got_script_02e08.txt 6746\n",
      "got_script_02e09.txt 4900\n",
      "got_script_02e10.txt 5315\n",
      "got_script_03e01.txt 5488\n",
      "got_script_03e02.txt 6814\n",
      "got_script_03e03.txt 6087\n",
      "got_script_03e04.txt 6066\n",
      "got_script_03e05.txt 7041\n",
      "got_script_03e06.txt 5603\n",
      "got_script_03e07.txt 6235\n",
      "got_script_03e08.txt 5062\n",
      "got_script_03e09.txt 4500\n",
      "got_script_03e10.txt 6367\n",
      "got_script_04e01.txt 6813\n",
      "got_script_04e02.txt 5337\n",
      "got_script_04e03.txt 6253\n",
      "got_script_04e04.txt 4472\n",
      "got_script_04e05.txt 5195\n",
      "got_script_04e06.txt 5382\n",
      "got_script_04e07.txt 5822\n",
      "got_script_04e08.txt 5277\n",
      "got_script_04e09.txt 3622\n",
      "got_script_04e10.txt 4610\n",
      "got_script_05e01.txt 4914\n",
      "got_script_05e02.txt 5372\n",
      "got_script_05e03.txt 6128\n",
      "got_script_05e04.txt 4755\n",
      "got_script_05e05.txt 4771\n",
      "got_script_05e06.txt 4944\n",
      "got_script_05e07.txt 5533\n",
      "got_script_05e08.txt 5149\n",
      "got_script_05e09.txt 4136\n",
      "got_script_05e10.txt 3856\n",
      "got_script_06e01.txt 3092\n",
      "got_script_06e02.txt 3883\n",
      "got_script_06e03.txt 4289\n",
      "got_script_06e04.txt 5189\n",
      "got_script_06e05.txt 5074\n",
      "got_script_06e06.txt 4502\n",
      "got_script_06e07.txt 5176\n",
      "got_script_06e08.txt 5139\n",
      "got_script_06e09.txt 3543\n",
      "got_script_06e10.txt 4811\n"
     ]
    }
   ],
   "source": [
    "base = 'http://www.springfieldspringfield.co.uk/view_episode_scripts.php?tv-show=game-of-thrones&episode='\n",
    "seasons = 6\n",
    "episodes = 10\n",
    "\n",
    "#all_urls() creates a list and populates it with urls \n",
    "#generated using the base url, and the number of seasons and episodes\n",
    "def all_urls(seasons, episodes):\n",
    "    all_urls = []\n",
    "    for s in range(1,seasons+1):\n",
    "        for e in range(1,episodes+1):\n",
    "            full_url = base+'s{}e{}'.format(format(s,'02d'),format(e,'02d'))\n",
    "            #print full_url\n",
    "            all_urls.append(full_url)\n",
    "    return all_urls\n",
    "\n",
    "#tokenize_got_script() uses nltk to parse the dialogue and treat all words as objects, or \"tokens\"\n",
    "def tokenize_got_script(txt_file):\n",
    "    #hard coded exceptions; the basic module used in nltk strips all punctuation (there's probably one that doesn't)\n",
    "    contractions = {'\\'m':'am','\\'re':'are','\\'ve':'have','\\'d':'would','\\'ll':'will','\\'nt':'not'}\n",
    "    tokens = nltk.word_tokenize(txt_file)\n",
    "    token = [t.replace(t,contractions[t]) if t in contractions else t for t in tokens]\n",
    "    return tokens\n",
    "\n",
    "for url in all_urls(seasons,episodes):\n",
    "\n",
    "    filename = 'got_script_' + str(url[-5:]) + '.txt'\n",
    "    with open(filename, 'r') as f:\n",
    "        text = f.read()\n",
    "        tokens = tokenize_got_script(text.decode('utf-8'))\n",
    "        print f.name, len(tokens)"
   ]
  },
  {
   "cell_type": "code",
   "execution_count": 32,
   "metadata": {
    "collapsed": false
   },
   "outputs": [],
   "source": [
    "filename = 'got_script_01e01.txt'\n",
    "with open(filename, 'r') as f:\n",
    "    text = f.read()\n",
    "    tokens = tokenize_got_script(text.decode('utf-8'))"
   ]
  },
  {
   "cell_type": "markdown",
   "metadata": {},
   "source": [
    "# Using a pre-defined word bank to assess dialogue sentiment\n",
    "https://www.quora.com/Is-there-a-downloadable-database-of-positive-and-negative-words"
   ]
  },
  {
   "cell_type": "code",
   "execution_count": 33,
   "metadata": {
    "collapsed": false
   },
   "outputs": [],
   "source": [
    "import pandas as pd"
   ]
  },
  {
   "cell_type": "code",
   "execution_count": 34,
   "metadata": {
    "collapsed": true
   },
   "outputs": [],
   "source": [
    "df = pd.read_csv('EffectWordNet.tsv',delimiter='\\t',header=None)"
   ]
  },
  {
   "cell_type": "code",
   "execution_count": 35,
   "metadata": {
    "collapsed": false
   },
   "outputs": [
    {
     "data": {
      "text/html": [
       "<div>\n",
       "<table border=\"1\" class=\"dataframe\">\n",
       "  <thead>\n",
       "    <tr style=\"text-align: right;\">\n",
       "      <th></th>\n",
       "      <th>0</th>\n",
       "      <th>1</th>\n",
       "      <th>2</th>\n",
       "      <th>3</th>\n",
       "    </tr>\n",
       "  </thead>\n",
       "  <tbody>\n",
       "    <tr>\n",
       "      <th>0</th>\n",
       "      <td>2279615</td>\n",
       "      <td>+Effect</td>\n",
       "      <td>profiteer</td>\n",
       "      <td>make an unreasonable profit, as on the sale o...</td>\n",
       "    </tr>\n",
       "    <tr>\n",
       "      <th>1</th>\n",
       "      <td>205598</td>\n",
       "      <td>+Effect</td>\n",
       "      <td>turn_around,pick_up</td>\n",
       "      <td>improve significantly; go from bad to good; \"...</td>\n",
       "    </tr>\n",
       "    <tr>\n",
       "      <th>2</th>\n",
       "      <td>2342800</td>\n",
       "      <td>+Effect</td>\n",
       "      <td>thrive,prosper,fly_high,flourish</td>\n",
       "      <td>make steady progress; be at the high point in...</td>\n",
       "    </tr>\n",
       "    <tr>\n",
       "      <th>3</th>\n",
       "      <td>1694263</td>\n",
       "      <td>+Effect</td>\n",
       "      <td>imitate</td>\n",
       "      <td>make a reproduction or copy of</td>\n",
       "    </tr>\n",
       "    <tr>\n",
       "      <th>4</th>\n",
       "      <td>2342016</td>\n",
       "      <td>+Effect</td>\n",
       "      <td>accouter,accoutre</td>\n",
       "      <td>provide with military equipment</td>\n",
       "    </tr>\n",
       "  </tbody>\n",
       "</table>\n",
       "</div>"
      ],
      "text/plain": [
       "         0        1                                 2  \\\n",
       "0  2279615  +Effect                         profiteer   \n",
       "1   205598  +Effect               turn_around,pick_up   \n",
       "2  2342800  +Effect  thrive,prosper,fly_high,flourish   \n",
       "3  1694263  +Effect                           imitate   \n",
       "4  2342016  +Effect                 accouter,accoutre   \n",
       "\n",
       "                                                   3  \n",
       "0   make an unreasonable profit, as on the sale o...  \n",
       "1   improve significantly; go from bad to good; \"...  \n",
       "2   make steady progress; be at the high point in...  \n",
       "3                   make a reproduction or copy of    \n",
       "4                  provide with military equipment    "
      ]
     },
     "execution_count": 35,
     "metadata": {},
     "output_type": "execute_result"
    }
   ],
   "source": [
    "df.head()"
   ]
  },
  {
   "cell_type": "code",
   "execution_count": 36,
   "metadata": {
    "collapsed": true
   },
   "outputs": [],
   "source": [
    "#We only need the word and its polarity...\n",
    "df.columns = ['some_number','polarity','word','definition']\n",
    "df['polarity'] = [1 if p == '+Effect' else -1 if p == '-Effect' else 0 for p in df['polarity']]\n",
    "df = df[['polarity','word']]"
   ]
  },
  {
   "cell_type": "code",
   "execution_count": 37,
   "metadata": {
    "collapsed": false,
    "scrolled": true
   },
   "outputs": [
    {
     "data": {
      "text/html": [
       "<div>\n",
       "<table border=\"1\" class=\"dataframe\">\n",
       "  <thead>\n",
       "    <tr style=\"text-align: right;\">\n",
       "      <th></th>\n",
       "      <th>polarity</th>\n",
       "      <th>word</th>\n",
       "    </tr>\n",
       "  </thead>\n",
       "  <tbody>\n",
       "    <tr>\n",
       "      <th>0</th>\n",
       "      <td>1</td>\n",
       "      <td>profiteer</td>\n",
       "    </tr>\n",
       "    <tr>\n",
       "      <th>1</th>\n",
       "      <td>1</td>\n",
       "      <td>turn_around,pick_up</td>\n",
       "    </tr>\n",
       "    <tr>\n",
       "      <th>2</th>\n",
       "      <td>1</td>\n",
       "      <td>thrive,prosper,fly_high,flourish</td>\n",
       "    </tr>\n",
       "    <tr>\n",
       "      <th>3</th>\n",
       "      <td>1</td>\n",
       "      <td>imitate</td>\n",
       "    </tr>\n",
       "    <tr>\n",
       "      <th>4</th>\n",
       "      <td>1</td>\n",
       "      <td>accouter,accoutre</td>\n",
       "    </tr>\n",
       "    <tr>\n",
       "      <th>5</th>\n",
       "      <td>1</td>\n",
       "      <td>preach,prophesy</td>\n",
       "    </tr>\n",
       "    <tr>\n",
       "      <th>6</th>\n",
       "      <td>1</td>\n",
       "      <td>carry</td>\n",
       "    </tr>\n",
       "    <tr>\n",
       "      <th>7</th>\n",
       "      <td>1</td>\n",
       "      <td>manoeuver,maneuver,manoeuvre,operate</td>\n",
       "    </tr>\n",
       "    <tr>\n",
       "      <th>8</th>\n",
       "      <td>1</td>\n",
       "      <td>dress_up,window-dress</td>\n",
       "    </tr>\n",
       "    <tr>\n",
       "      <th>9</th>\n",
       "      <td>1</td>\n",
       "      <td>bias</td>\n",
       "    </tr>\n",
       "    <tr>\n",
       "      <th>10</th>\n",
       "      <td>1</td>\n",
       "      <td>Christianize</td>\n",
       "    </tr>\n",
       "    <tr>\n",
       "      <th>11</th>\n",
       "      <td>1</td>\n",
       "      <td>subsidize,subsidise</td>\n",
       "    </tr>\n",
       "    <tr>\n",
       "      <th>12</th>\n",
       "      <td>1</td>\n",
       "      <td>apotheosize,apotheosise,apotheose</td>\n",
       "    </tr>\n",
       "    <tr>\n",
       "      <th>13</th>\n",
       "      <td>1</td>\n",
       "      <td>sulphur,sulfur</td>\n",
       "    </tr>\n",
       "    <tr>\n",
       "      <th>14</th>\n",
       "      <td>1</td>\n",
       "      <td>pick_up</td>\n",
       "    </tr>\n",
       "    <tr>\n",
       "      <th>15</th>\n",
       "      <td>1</td>\n",
       "      <td>shop,browse</td>\n",
       "    </tr>\n",
       "    <tr>\n",
       "      <th>16</th>\n",
       "      <td>1</td>\n",
       "      <td>neutralize,neutralise</td>\n",
       "    </tr>\n",
       "    <tr>\n",
       "      <th>17</th>\n",
       "      <td>1</td>\n",
       "      <td>guesstimate</td>\n",
       "    </tr>\n",
       "    <tr>\n",
       "      <th>18</th>\n",
       "      <td>1</td>\n",
       "      <td>pullulate</td>\n",
       "    </tr>\n",
       "    <tr>\n",
       "      <th>19</th>\n",
       "      <td>1</td>\n",
       "      <td>conserve,preserve,maintain,keep_up</td>\n",
       "    </tr>\n",
       "    <tr>\n",
       "      <th>20</th>\n",
       "      <td>1</td>\n",
       "      <td>pacify</td>\n",
       "    </tr>\n",
       "    <tr>\n",
       "      <th>21</th>\n",
       "      <td>1</td>\n",
       "      <td>expand,spread_out</td>\n",
       "    </tr>\n",
       "    <tr>\n",
       "      <th>22</th>\n",
       "      <td>1</td>\n",
       "      <td>countersign</td>\n",
       "    </tr>\n",
       "    <tr>\n",
       "      <th>23</th>\n",
       "      <td>1</td>\n",
       "      <td>transfuse</td>\n",
       "    </tr>\n",
       "    <tr>\n",
       "      <th>24</th>\n",
       "      <td>1</td>\n",
       "      <td>call</td>\n",
       "    </tr>\n",
       "    <tr>\n",
       "      <th>25</th>\n",
       "      <td>1</td>\n",
       "      <td>color,colour,emblazon</td>\n",
       "    </tr>\n",
       "    <tr>\n",
       "      <th>26</th>\n",
       "      <td>1</td>\n",
       "      <td>inject</td>\n",
       "    </tr>\n",
       "    <tr>\n",
       "      <th>27</th>\n",
       "      <td>1</td>\n",
       "      <td>egotrip</td>\n",
       "    </tr>\n",
       "    <tr>\n",
       "      <th>28</th>\n",
       "      <td>1</td>\n",
       "      <td>clamp</td>\n",
       "    </tr>\n",
       "    <tr>\n",
       "      <th>29</th>\n",
       "      <td>1</td>\n",
       "      <td>compass</td>\n",
       "    </tr>\n",
       "    <tr>\n",
       "      <th>...</th>\n",
       "      <td>...</td>\n",
       "      <td>...</td>\n",
       "    </tr>\n",
       "    <tr>\n",
       "      <th>10991</th>\n",
       "      <td>0</td>\n",
       "      <td>moor</td>\n",
       "    </tr>\n",
       "    <tr>\n",
       "      <th>10992</th>\n",
       "      <td>0</td>\n",
       "      <td>mummify</td>\n",
       "    </tr>\n",
       "    <tr>\n",
       "      <th>10993</th>\n",
       "      <td>0</td>\n",
       "      <td>demand</td>\n",
       "    </tr>\n",
       "    <tr>\n",
       "      <th>10994</th>\n",
       "      <td>0</td>\n",
       "      <td>seek_out</td>\n",
       "    </tr>\n",
       "    <tr>\n",
       "      <th>10995</th>\n",
       "      <td>0</td>\n",
       "      <td>seine</td>\n",
       "    </tr>\n",
       "    <tr>\n",
       "      <th>10996</th>\n",
       "      <td>0</td>\n",
       "      <td>speak_in_tongues</td>\n",
       "    </tr>\n",
       "    <tr>\n",
       "      <th>10997</th>\n",
       "      <td>0</td>\n",
       "      <td>defy,dare</td>\n",
       "    </tr>\n",
       "    <tr>\n",
       "      <th>10998</th>\n",
       "      <td>0</td>\n",
       "      <td>inscribe</td>\n",
       "    </tr>\n",
       "    <tr>\n",
       "      <th>10999</th>\n",
       "      <td>0</td>\n",
       "      <td>fill_up,fill</td>\n",
       "    </tr>\n",
       "    <tr>\n",
       "      <th>11000</th>\n",
       "      <td>0</td>\n",
       "      <td>flight</td>\n",
       "    </tr>\n",
       "    <tr>\n",
       "      <th>11001</th>\n",
       "      <td>0</td>\n",
       "      <td>specialize,specialise</td>\n",
       "    </tr>\n",
       "    <tr>\n",
       "      <th>11002</th>\n",
       "      <td>0</td>\n",
       "      <td>stalk</td>\n",
       "    </tr>\n",
       "    <tr>\n",
       "      <th>11003</th>\n",
       "      <td>0</td>\n",
       "      <td>birdie</td>\n",
       "    </tr>\n",
       "    <tr>\n",
       "      <th>11004</th>\n",
       "      <td>0</td>\n",
       "      <td>pulsate,beat,quiver</td>\n",
       "    </tr>\n",
       "    <tr>\n",
       "      <th>11005</th>\n",
       "      <td>0</td>\n",
       "      <td>ring,knell</td>\n",
       "    </tr>\n",
       "    <tr>\n",
       "      <th>11006</th>\n",
       "      <td>0</td>\n",
       "      <td>dish</td>\n",
       "    </tr>\n",
       "    <tr>\n",
       "      <th>11007</th>\n",
       "      <td>0</td>\n",
       "      <td>sinter</td>\n",
       "    </tr>\n",
       "    <tr>\n",
       "      <th>11008</th>\n",
       "      <td>0</td>\n",
       "      <td>dehydrate,desiccate</td>\n",
       "    </tr>\n",
       "    <tr>\n",
       "      <th>11009</th>\n",
       "      <td>0</td>\n",
       "      <td>metal</td>\n",
       "    </tr>\n",
       "    <tr>\n",
       "      <th>11010</th>\n",
       "      <td>0</td>\n",
       "      <td>whittle,pare</td>\n",
       "    </tr>\n",
       "    <tr>\n",
       "      <th>11011</th>\n",
       "      <td>0</td>\n",
       "      <td>bolt</td>\n",
       "    </tr>\n",
       "    <tr>\n",
       "      <th>11012</th>\n",
       "      <td>0</td>\n",
       "      <td>underlie</td>\n",
       "    </tr>\n",
       "    <tr>\n",
       "      <th>11013</th>\n",
       "      <td>0</td>\n",
       "      <td>abstain</td>\n",
       "    </tr>\n",
       "    <tr>\n",
       "      <th>11014</th>\n",
       "      <td>0</td>\n",
       "      <td>ghost,ghostwrite</td>\n",
       "    </tr>\n",
       "    <tr>\n",
       "      <th>11015</th>\n",
       "      <td>0</td>\n",
       "      <td>distill,distil</td>\n",
       "    </tr>\n",
       "    <tr>\n",
       "      <th>11016</th>\n",
       "      <td>0</td>\n",
       "      <td>overdress,dress_up,fig_out,fig_up,deck_up,guss...</td>\n",
       "    </tr>\n",
       "    <tr>\n",
       "      <th>11017</th>\n",
       "      <td>0</td>\n",
       "      <td>whish</td>\n",
       "    </tr>\n",
       "    <tr>\n",
       "      <th>11018</th>\n",
       "      <td>0</td>\n",
       "      <td>gee</td>\n",
       "    </tr>\n",
       "    <tr>\n",
       "      <th>11019</th>\n",
       "      <td>0</td>\n",
       "      <td>take_in_vain</td>\n",
       "    </tr>\n",
       "    <tr>\n",
       "      <th>11020</th>\n",
       "      <td>0</td>\n",
       "      <td>contraindicate</td>\n",
       "    </tr>\n",
       "  </tbody>\n",
       "</table>\n",
       "<p>11021 rows × 2 columns</p>\n",
       "</div>"
      ],
      "text/plain": [
       "       polarity                                               word\n",
       "0             1                                          profiteer\n",
       "1             1                                turn_around,pick_up\n",
       "2             1                   thrive,prosper,fly_high,flourish\n",
       "3             1                                            imitate\n",
       "4             1                                  accouter,accoutre\n",
       "5             1                                    preach,prophesy\n",
       "6             1                                              carry\n",
       "7             1               manoeuver,maneuver,manoeuvre,operate\n",
       "8             1                              dress_up,window-dress\n",
       "9             1                                               bias\n",
       "10            1                                       Christianize\n",
       "11            1                                subsidize,subsidise\n",
       "12            1                  apotheosize,apotheosise,apotheose\n",
       "13            1                                     sulphur,sulfur\n",
       "14            1                                            pick_up\n",
       "15            1                                        shop,browse\n",
       "16            1                              neutralize,neutralise\n",
       "17            1                                        guesstimate\n",
       "18            1                                          pullulate\n",
       "19            1                 conserve,preserve,maintain,keep_up\n",
       "20            1                                             pacify\n",
       "21            1                                  expand,spread_out\n",
       "22            1                                        countersign\n",
       "23            1                                          transfuse\n",
       "24            1                                               call\n",
       "25            1                              color,colour,emblazon\n",
       "26            1                                             inject\n",
       "27            1                                            egotrip\n",
       "28            1                                              clamp\n",
       "29            1                                            compass\n",
       "...         ...                                                ...\n",
       "10991         0                                               moor\n",
       "10992         0                                            mummify\n",
       "10993         0                                             demand\n",
       "10994         0                                           seek_out\n",
       "10995         0                                              seine\n",
       "10996         0                                   speak_in_tongues\n",
       "10997         0                                          defy,dare\n",
       "10998         0                                           inscribe\n",
       "10999         0                                       fill_up,fill\n",
       "11000         0                                             flight\n",
       "11001         0                              specialize,specialise\n",
       "11002         0                                              stalk\n",
       "11003         0                                             birdie\n",
       "11004         0                                pulsate,beat,quiver\n",
       "11005         0                                         ring,knell\n",
       "11006         0                                               dish\n",
       "11007         0                                             sinter\n",
       "11008         0                                dehydrate,desiccate\n",
       "11009         0                                              metal\n",
       "11010         0                                       whittle,pare\n",
       "11011         0                                               bolt\n",
       "11012         0                                           underlie\n",
       "11013         0                                            abstain\n",
       "11014         0                                   ghost,ghostwrite\n",
       "11015         0                                     distill,distil\n",
       "11016         0  overdress,dress_up,fig_out,fig_up,deck_up,guss...\n",
       "11017         0                                              whish\n",
       "11018         0                                                gee\n",
       "11019         0                                       take_in_vain\n",
       "11020         0                                     contraindicate\n",
       "\n",
       "[11021 rows x 2 columns]"
      ]
     },
     "execution_count": 37,
     "metadata": {},
     "output_type": "execute_result"
    }
   ],
   "source": [
    "df"
   ]
  },
  {
   "cell_type": "code",
   "execution_count": 38,
   "metadata": {
    "collapsed": false,
    "scrolled": true
   },
   "outputs": [],
   "source": [
    "pos = df[df['polarity'] == 1]\n",
    "neg = df[df['polarity'] == -1]\n",
    "nul = df[df['polarity'] == 0]"
   ]
  },
  {
   "cell_type": "code",
   "execution_count": 39,
   "metadata": {
    "collapsed": true
   },
   "outputs": [],
   "source": [
    "#How to deal with these gross multi-word entries... Just create a new dataframe for each polarity value!"
   ]
  },
  {
   "cell_type": "code",
   "execution_count": 40,
   "metadata": {
    "collapsed": true
   },
   "outputs": [],
   "source": [
    "#Aggregate all the words into one list\n",
    "pos_words = [','.join(pos['word'].values)]"
   ]
  },
  {
   "cell_type": "code",
   "execution_count": 41,
   "metadata": {
    "collapsed": false
   },
   "outputs": [
    {
     "data": {
      "text/plain": [
       "[\"profiteer,turn_around,pick_up,thrive,prosper,fly_high,flourish,imitate,accouter,accoutre,preach,prophesy,carry,manoeuver,maneuver,manoeuvre,operate,dress_up,window-dress,bias,Christianize,subsidize,subsidise,apotheosize,apotheosise,apotheose,sulphur,sulfur,pick_up,shop,browse,neutralize,neutralise,guesstimate,pullulate,conserve,preserve,maintain,keep_up,pacify,expand,spread_out,countersign,transfuse,call,color,colour,emblazon,inject,egotrip,clamp,compass,restore,reinstate,reestablish,certify,compensate,counterbalance,correct,make_up,even_out,even_off,even_up,model,simulate,bounce,show,show_up,tip,fee,bung,revalue,clear,prepare,redevelop,body_guard,head,head_up,confirm,undervalue,underestimate,understand,read,interpret,translate,sprout,stock,nod,give,pay,devote,sign,ratify,deserve,merit,leave_no_stone_unturned,partake,share,partake_in,uncross,disarm,unarm,table,tabularize,tabularise,tabulate,echo,recall,nutrify,aliment,nourish,computerize,computerise,adulate,cream_off,skim_off,ride,sit,grow,raise,farm,produce,telepathize,telepathise,backlog,line_up,get_hold,come_up,find,agree,connect,sober_up,sober,think_about,contribute,give,chip_in,kick_in,reform,call,derive,educe,steal,issue,quantify,give,keep,free,discharge,interest,control,command,beat,confirm,visualize,visualise,envision,project,fancy,see,figure,picture,image,look_around,attend,hang,advert,pay_heed,give_ear,integrate,alcoholize,dry-wall,connive,hop_on,mount,mount_up,get_on,jump_on,climb_on,bestride,take,treat,cloister,drive,unwire,fluoridate,fluoridize,fluoridise,cultivate,overproduce,indulge,have,get,make,subscribe,support,patronize,patronise,shop,shop_at,buy_at,frequent,sponsor,get,acquire,tolerate,lead,head,provide,make,intonate,intone,take_care,mind,recover,go_back,recuperate,refuel,stock,yield,give,afford,avail,help,grow,cobble,achieve,accomplish,attain,reach,stud,reinterpret,swallow,reinvent,curtsy,bob,culminate,juggle,covenant,come_to_life,come_into_being,plumb,relapse,lapse,recidivate,regress,retrogress,fall_back,guard,write,compose,pen,indite,reason,reason_out,conclude,affranchise,enfranchise,validate,formalize,formalise,release,relinquish,resign,free,give_up,mythologize,mythologise,coincide,set_to_music,tune_in,revamp,dive,find,unchain,fix,declare,congratulate,felicitate,bob,orchestrate,offer,widen,estimate,gauge,approximate,guess,judge,stipulate,leer,owe,derestrict,vouchsafe,hang,valet,zero,zero_in,bargain,prize,value,treasure,appreciate,kennel,comply,follow,abide_by,expand,dowse,tighten_one's_belt,bristle,cater,time,deduce,infer,deduct,derive,settle,profile,answer,intend,destine,designate,specify,headquarter,miniate,rubricate,feed,rekindle,provide,bring_home_the_bacon,hail,herald,wait,waitress,quaver,waver,boost,advance,supercharge,baptize,baptise,christen,extend,purify,purge,sanctify,expect,enfilade,seal,price,ordain,choreograph,compose,whoop,ferret_out,ferret,drink_in,drink,content,circumstantiate,carry,do_well_by,regenerate,retrain,roll_out,straighten,winterize,winterise,miter,inherit,star,type,typewrite,make_out,rhyme,rime,act_on,deglaze,boomerang,intern,accredit,modify,qualify,raffle,raffle_off,drift,benefact,factorize,factorise,walk,coapt,conglutinate,read,grub_up,grub_out,survey,traffic,purl,write,mend,heal,redouble,decimalize,decimalise,land,provide,supply,ply,cater,abreact,grok,get_the_picture,comprehend,savvy,dig,grasp,compass,apprehend,plump,go,theorize,rabbet,grub,board,feed,strike,mothproof,sponsor,moonlight,habilitate,charm,becharm,bottlefeed,touch_on,razor,overproduce,commune,get_off,corral,name,call,restore,restitute,gild,begild,engild,bank,speciate,differentiate,specialize,specialise,certificate,remind,cub,fall,influence,act_upon,work,equip,name,nominate,make,spread,overspread,shepherd,betroth,engage,affiance,plight,globalize,globalise,cog,repatriate,wait,hold_off,hold_back,build_up,germinate,fret,project,propose,visualize,visualise,turn_out,enliven,liven,liven_up,invigorate,animate,hold,carry,bear,pay,pay_off,make_up,compensate,masturbate,bracket,refract,produce,bring_about,give_rise,lift,speak_of_the_devil,swing,swing_over,lease,let,rent,review,look_back,retrospect,cure,surge,account,answer_for,concord,accept,take,have,prosecute,engage,pursue,sow_one's_oats,sow_one's_wild_oats,motorize,recite,retell,logroll,build,analyze,analyse,study,examine,canvass,canvas,affirm,run_on,devour,metastasize,metastasise,generate,bring_forth,design,rationalize,rationalise,mix,mingle,commix,unify,amalgamate,butylate,correct,rectify,right,turn_out,work_in,hammer_in,drill_in,ram_down,beat_in,corn,fledge,flight,fellate,suck,blow,go_down_on,breakfast,perm,represent,stand_for,correspond,tithe,wash_one's_hands,groom,neaten,avoid,constitutionalize,bathe,apprehend,quail_at,spot_promote,devise,deck,bedight,bedeck,profit,turn_a_profit,check,prepay,score,secure,reduce,cut_down,cut_back,trim,trim_down,trim_back,cut,bring_down,amnesty,ramp,read,reflectorize,reflectorise,indulge,luxuriate,catch,get,charge,puncture,homer,enlarge,clarion,fax,telefax,facsimile,make_good,batfowl,profit,gain,benefit,marry,wed,tie,splice,fledge,corbel,putter,mess_around,potter,tinker,monkey,monkey_around,muck_about,muck_around,start,take_up,embalm,process,anastomose,inosculate,promote,upgrade,advance,kick_upstairs,raise,elevate,dress,style,subtitle,hush,ratiocinate,mature,maturate,grow,jump,reap,draw,see,ridge,frog,squat,crouch,scrunch,scrunch_up,hunker,hunker_down,occur,freeload,honor,honour,reward,flap,make,get,collect,pull_in,exfoliate,capture,enamour,trance,catch,becharm,enamor,captivate,beguile,charm,fascinate,bewitch,entrance,enchant,anticipate,foresee,forestall,counter,complement,carry,poise,balance,patch,phase,breed,appreciate,apprize,apprise,revalue,revolutionize,revolutionise,inspire,lend,loan,condition,clap,spat,retrofit,throw_back,toss_back,stow_away,sponsor,patronize,patronise,totalize,totalise,impulse-buy,pick_up,socialize,socialise,gain,take_in,clear,make,earn,realize,realise,pull_in,bring_in,meet,satisfy,fill,fulfill,fulfil,develop,acquire,evolve,give,pay,test,enfeoff,par,learn,larn,acquire,knight,dub,dissociate,jumble,confuse,mix_up,range,straddle,roll_up,collect,accumulate,pile_up,amass,compile,hoard,remember,think_back,think,determine,find,find_out,ascertain,share,theorize,keep,maintain,shimmer,acquire,win,gain,study,consider,settle,order,prescribe,dictate,rediscover,resign,reconcile,submit,underachieve,underperform,top,map,represent,initial,spring,polish,refine,fine-tune,down,contribute,lead,conduce,plot,while_away,get_through,effloresce,burst_forth,sense,taste,lock,deem,hold,view_as,take_for,carbonate,market,quilt,favor,favour,bear,take_over,accept,assume,shield,screen,reign,survey,make,operate,run,japan,enjoy,agree,hold,concur,concord,allow,appropriate,earmark,set_aside,reserve,build_up,work_up,build,progress,bead,seam,adjust,set,correct,temporize,temporise,press,contend,postulate,issue,supply,halve,capitalize,capitalise,take_advantage,vibrate,time,reduce,stigmatize,stigmatise,give_and_take,hitchhike,hitch,thumb,prefabricate,monopolize,monopolise,senesce,age,get_on,mature,maturate,escape,get_away,inlay,give,net,sack,sack_up,clear,box,package,patronage,sop,stipulate,bring,get,convey,fetch,quantify,measure,blank,sustain,keep,maintain,reflect,shine,weekend,allegorize,allegorise,etiolate,undertake,tackle,take_on,arrange,set,call,create_verbally,differentiate,astrogate,commend,minister,overcapitalize,overcapitalise,carry,call_the_shots,call_the_tune,wear_the_trousers,dote,sloganeer,bring,work,play,wreak,make_for,act_as,draw,make,crown,coronate,mix,fantasy,fantasize,fantasise,regiment,revitalize,revitalise,reassess,reevaluate,refurnish,census,sweep,want,point,repoint,attend,take_care,look,see,can,tin,put_up,hold,mushroom,generalize,generalise,extrapolate,infer,potentiate,dike,dyke,feather,touch,lift,raise,elevate,sodomize,sodomise,swear,give,match,intercede,mediate,intermediate,liaise,arbitrate,distill,distil,come,follow,embattle,reconsecrate,vow,lead_off,lead_astray,accept,ordain,serve,lyophilize,lyophilise,serve,train,topdress,collar,substitute,deputize,deputise,step_in,concert,adopt,take_in,manage,deal,care,handle,honor,honour,ice,ordain,consecrate,ordinate,order,discount,change_hands,change_owners,serve,help,spin,gas_up,acknowledge,recognize,recognise,know,socialize,socialise,anticipate,look_for,look_to,eke_out,elaborate,divine,subsidize,subsidise,confect,confection,comfit,recreate,build_up,work_up,build,ramp_up,service,serve,remember,organize,organise,coordinate,smelt,suppose,say,luck_out,hit_the_jackpot,broaden,sweeten,pass,make_it,engage,enlist,begin,start,demilitarize,demilitarise,keep,preserve,append,add_on,supplement,affix,originate,initiate,start,propagate,think,coordinate,rethink,plank,polish,round,round_off,polish_up,brush_up,think,heat_up,hot_up,screw_up,pledge,plight,balance,equilibrate,equilibrize,equilibrise,choreograph,fit_the_bill,fill_the_bill,cover_for,wash_up,build_up,develop,continue,license,licence,certify,fossilize,fossilise,make_hay,moralize,moralise,mythicize,mythicise,save,lay_aside,save_up,pyramid,want,nominate,propose,give_away,lull,unleash,let_loose,loose,massage,think,pompadour,scribble,scrabble,geminate,recuperate,recover,convalesce,ankylose,ancylose,communicate,pass_on,pass,pass_along,put_across,beat_up,drum_up,rally,rake_up,test,authorize,authorise,pass,clear,program,programme,exploit,work,scallop,satiate,sate,replete,fill,work,short-circuit,short,forge,fake,counterfeit,whip_up,whomp_up,sleep_over,stay_over,feel,purl,anoint,inunct,oil,anele,embrocate,lowball,underestimate,calculate,cipher,cypher,compute,work_out,reckon,figure,tally,chalk_up,recover,retrieve,find,regain,reflate,hire_out,rent_out,farm_out,photosensitize,photosensitise,people,hanker,long,yearn,caliper,calliper,professionalize,professionalise,recall,yak,gab,cleanse,clean,cover,kitten,return,play,recreate,educate,carry,regenerate,renew,emend,trim,sentimentalize,sentimentalise,prospect,control,verify,conspire,cabal,complot,conjure,machinate,get_at,affix,drink,tope,come_to,revive,resuscitate,trim,understudy,alternate,trouble-shoot,troubleshoot,antagonize,antagonise,counteract,intend,mean,think,trade,swap,swop,switch,mercerize,mercerise,fence,scheme,intrigue,connive,vouch,help,aid,reincarnate,transmigrate,correct,mount,dry-nurse,slap,fund,confabulate,capacitate,care,give_care,amortize,amortise,drag_up,dredge_up,slave,break_one's_back,buckle_down,knuckle_down,annotate,footnote,prolong,sustain,keep_up,come,unbutton,gazette,recall,call_in,call_back,withdraw,donate,coordinate,behave,acquit,bear,deport,conduct,comport,carry,give_birth,check,repose,nitrate,tie_up,monetize,monetise,apply,quantize,quantise,desacralize,secularize,burn_off,stave,seal,assure,raise,uniform,step,chart,extract,believe,connect,brevet,grass,borrow,look_to,work,put_on,spar,revert,return,retrovert,regress,turn_back,think_out,like,paper,starboard,entitle,impound,attach,sequester,confiscate,seize,gauge,dot,stud,constellate,stable,prefix,shuttle,ration,ration_out,serve,serve_well,consign,charge,run,reflect,meet,fit,conform_to,raise,erect,rear,set_up,put_up,take_over,relieve,e-mail,email,netmail,submit,bow,defer,accede,give_in,ground,drill,find,regain,uprise,drive,put_on,turn_in,jerk,flick,flip,bring_in,close,testify,attest,take_the_stand,bear_witness,gestate,conceive,conceptualize,conceptualise,add,follow_up,multiply,manifold,tampon,serve,program,programme,address,speak,apprentice,augment,slick,slick_down,sleek_down,preempt,fasten,fix,secure,line_one's_pockets,build,seat,brood,hatch,cover,incubate,plead,buy,purchase,caddie,caddy,headline,stimulate,excite,stir,pull_one's_weight,potter,putter,blog,concertize,concertise,garland,go_Dutch,heighten,vote,bristle,set,localize,localise,place,restock,sensualize,carnalize,regenerate,alternate,jump,manipulate,semaphore,ask,inquire,enquire,ennoble,gentle,entitle,average,cleave,reseat,log_in,log_on,log-in,conclude,sporulate,bravo,listen_in,eavesdrop,capture,catch,inflate,voodoo,redecorate,disinvolve,disembroil,disentangle,purify,sublimate,make_pure,distill,derive,coal,dock,motorize,disbud,buoy,buoy_up,causeway,top,cut_in,pry,readmit,take_a_joke,report,fin,dung,insist,assert,move,go,compose,hypothecate,invent,contrive,devise,excogitate,formulate,forge,underlay,animalize,animalise,arm,work_up,get_up,receive,get,find,obtain,incur,precede,lead,sharpen,instrument,induce,bring_on,remember,square,go_off_half-cocked,go_off_at_half-cock,break,get_out,get_around,whore,cull_out,winnow,redevelop,brisk,brisk_up,brisken,shoot_up,enthrone,throne,re-create,civilize,civilise,frank,spangle,bespangle,bear,turn_out,joint,articulate,rig_up,impinge,encroach,entrench,trench,appreciate,apprize,apprise,shake_hands,budget,search,seek,look_for,zero,prolong,protract,extend,draw_out,create,deduce,infer,estrange,alienate,alien,disaffect,open,open_up,reform,reclaim,regenerate,rectify,capitalize,capitalise,pressurize,pressurise,preconceive,make,nail_down,nail,peg,permit,allow,let,countenance,carry,tout,strike,know,cognize,cognise,jaundice,see_eye_to_eye,receive,print,publish,wash,emulate,amplify,refine,rectify,paint,stamp,spread-eagle,allocate,apportion,quantize,quantise,flash,get_over,check,call_in,set_about,go_about,approach,absorb,engross,engage,occupy,communicate,pull_over,snap_up,snaffle,grab,espouse,embrace,adopt,sweep_up,privilege,favor,favour,rehouse,rebate,spy,sight,operate_on,operate,rebuild,reconstruct,charge,wench,serve,serve_up,dish_out,dish_up,dish,underperform,undersign,fill,fictionalize,fictionalise,retell,top,top_out,unlock,appoint,charge,jockey,spur,stockade,come_to_life,iodize,iodise,go_home,head_home,pry,prise,prize,lever,jimmy,absorb,suck,imbibe,soak_up,sop_up,suck_up,draw,take_in,take_up,compound,combine,excerpt,extract,take_out,mechanize,mechanise,determine,check,find_out,see,ascertain,watch,learn,welt,advantage,alibi,bat_mitzvah,collate,think_of,have_in_mind,mean,stand_by,buy_time,rat,crane,stretch_out,cell_phone,execute,tinsel,unbend,manumit,emancipate,horse,complain,broker,coin,maximize,maximise,refer,consist,hypnotize,hypnotise,mesmerize,mesmerise,riddle,solicit,help_out,cash,cash_in,spam,adjoin,undergird,fall,cultivate,crop,work,bachelor,bach,cure,dissipate,advance,score,propagandize,propagandise,inflate,blow_up,complexion,sign,band_oneself,league_together,awaken,wake,waken,rouse,wake_up,arouse,reassemble,bathe,bath,canal,canalize,canalise,sulk,pout,brood,bear,concede,yield,cede,grant,jump,leap,jump_off,accumulate,cumulate,conglomerate,pile_up,gather,amass,temper,reinsure,order,favor,favour,write_down,set_down,get_down,put_down,be,sign,contract,sign_on,sign_up,fuel,fire,like,contract,undertake,greet,oxygenize,oxygenise,pioneer,multiply,respect,esteem,value,prize,prise,officiate,function,do_justice,transpire,advance,relearn,grant,deed_over,splurge,fling,overreact,pass,clear,puzzle,script,chrome,berth,broaden,probate,salute,titrate,bounce,ride,record,register,ripen,regenerate,feed_back,resubmit,make,garden,baby-sit,sit,ballot,correlate,divide,fraction,speculate,theorize,theorise,conjecture,hypothesize,hypothesise,hypothecate,suppose,fund,furlough,canonize,canonise,muster,rally,summon,come_up,muster_up,ulcerate,desynchronize,desynchronise,slot,overspend,rename,pontificate,honeymoon,flag,revisit,unyoke,rescale,undertake,take_in_charge,surrender,cede,deliver,give_up,scintillate,balloon,inflate,billow,believe,trust,heed,mind,listen,reenact,lamb,fag,work,rock,sway,shake,horse_around,arse_around,fool_around,fool,distribute,administer,mete_out,deal,parcel_out,lot,dispense,shell_out,deal_out,dish_out,allot,dole_out,buy,editorialize,editorialise,propitiate,appease,magnetize,magnetise,tithe,shelter,maneuver,manoeuver,manoeuvre,specialize,specialise,manipulate,pull_strings,pull_wires,take_back,marshal,sieve,sift,press_out,express,extract,continue,uphold,carry_on,bear_on,preserve,intercalate,welcome,receive,convey,build,buck,jerk,hitch,fund-raise,fund_raise,fundraise,take_in,take_up,inculcate,instill,infuse,follow,park,restrain,encumber,cumber,constrain,reawaken,toast,drink,pledge,salute,wassail,live_in,sleep_in,cancel,offset,set_off,write_on,write_of,write_about,catch_on,get_wise,get_onto,tumble,latch_on,cotton_on,twig,get_it,Simonize,Simonise,lionize,lionise,celebrate,rally,rebound,exert,manicure,carry,plea-bargain,transcribe,flicker,waver,flitter,flutter,quiver,sweep,trade,trade_in,slant,angle,weight,close_up,close,give,anastomose,inosculate,incarnate,pick,pursue,follow_up_on,act_on,interchange,tack,switch,alternate,flip,flip-flop,give,gift,present,suffice,do,answer,serve,hatch,build,guess,infer,bedizen,resuscitate,revive,spot-check,approve,O.K.,okay,sanction,reset,alliterate,process,assonate,bring_up,thrill,scramble,jumble,throw_together,question,query,sharpen,taper,point,stand_back,foment,semaphore,shaft,profess,applaud,clap,spat,acclaim,compose,write,manufacture,decorate,adorn,grace,ornament,embellish,beautify,bestow,restrain,keep,keep_back,hold_back,raise,conjure,conjure_up,invoke,evoke,stir,call_down,arouse,bring_up,put_forward,call_forth,devil,debug,address,writhe,wrestle,wriggle,worm,squirm,twist,envision,foresee,flatter,blandish,shake,premeditate,cover,bring_home,roll,elaborate,work_out,validate,corroborate,hope,trust,desire,join,conjoin,run,come_across,come_over,belabor,belabour,bear,guide,guide_on,award,grant,equal,be,mooch,bum,cadge,grub,sponge,take,countermarch,close,fill_up,imbibe,translate,racketeer,pacify,lenify,conciliate,assuage,appease,mollify,placate,gentle,gruntle,go_back,date_back,date_from,qualify,measure_up,infix,condescend,stoop,lower_oneself,play,mandate,distrain,wreathe,copper-bottom,override,plug_in,plug_into,connect,gang,gang_up,butterfly,survey,appraise,vegetate,visa,leverage,wash,lave,protect,anagram,anagrammatize,anagrammatise,carry_over,bulge,bulk,hunt,square,look,appear,seem,soundproof,market,take_out,buy_food,dedicate,expect,summerize,summerise,map,cosponsor,recuse,floss,resemble,fix,string,string_up,write_in,please,pod,carry,rush,hasten,hurry,look_sharp,festinate,copyright,bonderize,bonderise,unite,combine,reaffirm,fructify,set,keep_tabs_on,concord,brood,dwell,love,enjoy,compromise,excuse,pardon,depressurize,depressurise,decompress,clear,boondoggle,piggyback,pedicure,bridge,curry_favor,curry_favour,court_favor,court_favour,coconspire,please,delight,carpenter,think,serve,do,misread,read,say,vegetate,declassify,iodize,iodise,unite,unify,radio,munition,choke,spur,proclaim,exclaim,promulgate,stucco,square,accept,balance,monopolize,monopolise,repair,mend,fix,bushel,doctor,furbish_up,restore,touch_on,applaud,understand,puff,puff_up,cramp,preside,better,improve,amend,ameliorate,meliorate,win_back,get_back,feel,fertilize,fertilise,feed,mount,piece,patch,look_after,realize,realise,actualize,actualise,substantiate,freeze-dry,silhouette,make,doctor,decolonize,decolonise,justify,amaze,astonish,astound,rename,inform,splice,function,work,operate,go,run,inject,bunk,adjust,conform,adapt,ascend,move_up,rise,protect,draw,cast,kite,cover,compensate,overcompensate,initiate,induct,pupate,lighten,lighten_up,buoy_up,heighten,rise,come_up,malt,spree,rectify,remediate,remedy,repair,amend,hamper,halter,cramp,strangle,accept,consent,go_for,add,add_together,take_home,bring_home,sequester,border_on,approach,accrete,climb,home,sharpen,round_out,fill_out,unclip,fillet,filet,orient,orientate,home-school,sheer,argue,indicate,electioneer,regrow,monitor,quench,slake,allay,assuage,readmit,acquit,assoil,clear,discharge,exonerate,exculpate,abound,burst,bristle,cover,continue,extend,board,whitewash,jazz_up,juice_up,pep_up,ginger_up,whistle,hat,congee,conge,flip,flip_out,caparison,bard,barde,dress_up,give_birth,deliver,bear,birth,have,overgeneralize,overgeneralise,firm_up,trace,pledge,subscribe,draw,imply,involve,preserve,keep,make,do,audit,lengthen,get,measure,evaluate,valuate,assess,appraise,value,tax,return,lacquer,tread,misname,miscall,luxuriate,wanton,pace,step,draw,base,litter,patch,patch_up,spike,spike_out,home,overhaul,modernize,modernise,rev_up,step_up,incubate,progress,come_on,come_along,advance,get_on,get_along,shape_up,castle,relive,live_over,promise,think,sodomize,sodomise,bugger,prank,name,coact,offer,extend,rise,prove,be,live,dedicate,locate,turn_up,trump_up,concoct,chain,quote,succeed,win,come_through,bring_home_the_bacon,deliver_the_goods,spare,save,unfold,spread,spread_out,open,partner,recast,reforge,remodel,purpose,resolve,understand,realize,realise,see,entertain,think_of,toy_with,flirt_with,think_about,tender,remount,align,second,back,endorse,indorse,prey,feed,have,have_got,hold,sanction,open,open_up,syllogize,syllogise,camphorate,indoctrinate,receive,have,hyperextend,descry,spot,espy,spy,call,precondition,assure,tell,fantasize,fantasise,tune,tune_up,live,roneo,blend,go,blend_in,backpedal,rubricate,approach,excuse,relieve,let_off,exempt,oblige,accommodate,bank,fund,lust_after,lech_after,incur,vacation,holiday,post,brand,induce,induct,cross,traverse,span,sweep,lump,chunk,excel,stand_out,surpass,connect,link,link_up,join,unite,pamper,featherbed,cosset,cocker,baby,coddle,mollycoddle,spoil,indulge,enfranchise,pander,pimp,procure,co-sign,cosign,twine,conceive,carry_back,help,address,turn_to,trip,actuate,trigger,activate,set_off,spark_off,spark,trigger_off,touch_off,append,tag_on,tack_on,tack,hang_on,shrive,absolve,nickel-and-dime,polish,smooth,smoothen,shine,behoove,behove,profess,know,take,read,enamel,feed_back,prorate,territorialize,territorialise,exsert,stretch_out,put_out,extend,hold_out,stretch_forth,bull,fancify,beautify,embellish,prettify,calk,ream,enrich,take_after,hunch,hump,hunch_forward,hunch_over,commend,remember,pass_on,disembody,cradle,carry,persuade,sway,guarantee,ensure,insure,assure,secure,spike,resurrect,rise,uprise,vote,stock,tide_over,bridge_over,keep_going,fish,angle,sling,vegetate,retread,remold,remould,compensate,recompense,repair,indemnify,namedrop,crowd,crowd_together,ventilate,clerk,view,consider,look_at,enhance,heighten,raise,claim,redeem,give,empower,authorise,authorize,pyramid,dress,groom,curry,masturbate,wank,fuck_off,she-bop,jack_off,jerk_off,volunteer,warm_to,wax,mount,climb,rise,back_up,back_off,back_down,bump_up,peer,match,condense,patent,page,drill,reinsure,satisfy,fulfill,fulfil,live_up_to,recruit,liquidate,pay_off,endow,dower,develop,whore,buy,tag,exceed,transcend,overstep,pass,go_past,top,avail,subserve,brace,single_out,reinsure,bias,predetermine,ping,lease,rent,hire,charter,engage,take,evolve,germinate,develop,replenish,refill,fill_again,tonsure,pull_off,negociate,bring_off,carry_off,manage,express,state,hang_on,hold_the_line,hold_on,reschedule,disgust,gross_out,revolt,repel,impress,ingrain,instill,reason,count_off,crow,custom-make,customize,customise,tailor-make,write,imprint,form,talc,induct,politicize,politicise,observe,keep,ply,unteach,stampede,make_up,catch_up_with,sit_out,get_the_best,have_the_best,overcome,magnetize,mesmerize,mesmerise,magnetise,bewitch,spellbind,relyric,carry,extend,backstroke,give,equate,correspond,gild_the_lily,paint_the_lily,perfume,scent,reallot,rear_back,draft,outline,rake,look_forward,suffocate,choke,serve,demise,dress_ship,postulate,posit,finance,offset,boom,thrive,flourish,expand,sophisticate,settle,relieve,lighten,curtain,notate,eke_out,fill_out,ride,mount,reenact,hack,hack_on,fudge_together,throw_together,ransom,redeem,rivet,court,embroider,broider,scheme,live_it_up,suck,suck_in,acknowledge,receipt,keep,count_out,alphabetize,bob,process,treat,wigwag,scarf,accrue,rent,lease,certificate,spell,trace,retrace,express_emotion,express_feelings,increase,graduate,portray,depict,limn,render,yield,return,give,generate,develop,rise,vitalize,vitalise,want,cornice,sieve,sift,hook,solicit,accost,write,go_all_out,give_one's_best,do_one's_best,give_full_measure,design,adolesce,invest,clothe,adorn,bulwark,intoxicate,soak,inebriate,stylize,stylise,conventionalize,catch,preempt,reorientate,reorient,think_of,condition,spread-eagle,extend,stimulate,arouse,brace,energize,energise,perk_up,qualify,set_up,triple,treble,mousse,gel,reflate,pole,reorganize,reorganise,regroup,wonder,marvel,swear,depose,depone,overrefine,over-refine,spell,write,root,use,habituate,access,truncate,offer,offer_up,carry,represent,splint,crave,hunger,thirst,starve,lust,feed,give,go_around,acclaim,hail,herald,give,render,put_on,enhance,search,look,decorate,better,improve,ameliorate,meliorate,absorb,take_over,double-team,augment,teethe,preoccupy,heap,call,defend,guard,hold,bush_out,use,fortify,enjoy,bask,relish,savor,savour,condemn,serve,exhibit,cascade,abet,free,disengage,dash_down,dash_off,resile,scrape,reflate,preisolate,defend,support,fend_for,quadruple,swallow,sequence,appoint,proliferate,crew,assemble,piece,put_together,set_up,tack,tack_together,laminate,distance,rake_in,shovel_in,suit,accommodate,fit,counteract,countervail,neutralize,counterbalance,scry,create_by_mental_act,create_mentally,verify,leave,butter_up,brown-nose,get,manicure,puddle,enslave,stint,skimp,scant,increase,reticulate,gloat,drill,exercise,practice,practise,breastfeed,suckle,suck,nurse,wet-nurse,lactate,give_suck,assimilate,antique,quibble,plug,stop_up,secure,prepossess,grass,summer,reprieve,nitrify,put_in,submit,wrangle,net,clear,equip,fit,fit_out,outfit,laud,extol,exalt,glorify,proclaim,clinch,extend,stretch,get,begin,assist,derive,gain,man,invest,vest,enthrone,justify,warrant,tread,pronounce,label,judge,track,toe_the_line,prejudice,prepossess,spoonfeed,force-feed,raise,lavish,shower,fodder,carry,pack,take,pay_off,stalemate,present,pose,comfort,soothe,console,solace,demist,defog,surcharge,frizzle,shave,chamber,defend,relativize,relativise,kite,connive_at,wink_at,chlorinate,meet,match,cope_with,complect,interconnect,interlink,make,sterilize,sterilise,nod,hold,stem,make,develop,transistorize,transistorise,covenant,lance,citify,extort,wring_from,boost,scale_up,buy_back,repurchase,pawn,soak,hock,weatherstrip,call_up,bring_forward,rear,raise,bring_up,nurture,parent,answer,resolve,populate,dwell,live,inhabit,remit,schnorr,shnorr,scrounge,cadge,cover,spruce_up,spruce,titivate,tittivate,smarten_up,slick_up,spiff_up,hobnail,shower,ornament,horseshoe,man,gauge,overachieve,subcontract,trust,crab,add_to,equal,match,equalize,equalise,equate,rusticate,milk,ascertain,succeed,come_after,follow,return,take_back,bring_back,wash,unloose,unloosen,cuddle,snuggle,nestle,nest,nuzzle,draw_close,redeem,look_back,look_backward,do_the_honors,bed-hop,bedhop,sleep_around,obey,faggot,fagot,turn,register,stipulate,qualify,condition,specify,lay_down,establish,make,correlate,give,unstrap,unhitch,recoup,reimburse,immunize,immunise,counterplot,guy,fawn,toady,truckle,bootlick,kowtow,kotow,suck_up,hang_up,ream,imagine,conceive_of,ideate,envisage,lean,pay,argue,reason,wish,bid,shine_at,excel_at,mislead,misdirect,misguide,lead_astray,buy_off,pay_off,recognize,recognise,keep_track,procrastinate,stall,drag_one's_feet,drag_one's_heels,shillyshally,dilly-dally,dillydally,stand,stand_up,place_upright,nourish,nurture,sustain,administer,administrate,style,title,present,represent,lay_out,phosphoresce,accept,admit,take,take_on,intensify,compound,heighten,deepen,construct,grubstake,troll,output,procure,secure,focus,focalize,focalise,sharpen,reproduce,edit,blue-pencil,delete,patch,piece,go_down,escalate,intensify,step_up,determine,shape,mold,influence,regulate,derequisition,fall,condense,concentrate,contract,manufacture,blaze_away,buff,burnish,furbish,dope,bush,flabbergast,boggle,bowl_over,salute,grate,cable,telegraph,wire,deck,adorn,decorate,grace,embellish,beautify,crenel,crenelate,crenellate,farm,become,read,upgrade,fascinate,transfix,grip,spellbind,convert,allow,permit,tolerate,purge,instantiate,denazify,stall,fill,take,occupy,commutate,rave,gush,standardize,standardise,elect,graft,engraft,ingraft,vitaminize,vitaminise,spiritualize,spiritualise,fuel,ligate,repress,quash,keep_down,subdue,subjugate,reduce,scrape,scrape_up,scratch,come_up,float,drift,be_adrift,blow,vermiculate,uncoil,upholster,speculate,clap_up,clap_together,slap_together,sidle,freeze,befit,suit,beseem,farrow,pig,mother,fuss,overprotect,unzip,right,school,move,match,fit,correspond,check,jibe,gibe,tally,agree,concatenate,introduce,answer,helm,benefice,support,premise,premiss,advertise,publicize,advertize,publicise,gratify,pander,indulge,vote,endow,indue,gift,empower,invest,endue,hustle,back,endorse,indorse,plump_for,plunk_for,support,advance,throw_out,get,comb,comb_out,disentangle,work_at,work_on,financier,dismiss,usher_out,interlock,lock,sign,reference,cite,clean_up,keep,maintain,hold,cut,landscape,darn,discover,find,outspan,bail,wattle,work,act,turn_a_trick,void,busy,occupy,carry,survive,pull_through,pull_round,come_through,make_it,magnify,amplify,communicate,intercommunicate,damascene,sacrifice,give,curb,do_justice,angle-park,inscribe,prime,vamp,revamp,age,kick,fin,neglect,ignore,disregard,make,believe_in,stretch,extend,consider,schedule,reelect,return,rise,go_up,climb,scaffold,listen,hear,take_heed,farm,unwind,disentangle,choose,prefer,opt,shrug,leverage,undo,unbend,lord_it_over,queen_it_over,put_on_airs,act_superior,produce,bring_forth,backcross,paragraph,revet,construct,build,make,dehydrate,desiccate,bow,bow_down,chock,raid,meet,bless,rim,help,assist,aid,elongate,stretch,think,cogitate,cerebrate,disburse,pay_out,master,control,attune,gesticulate,gesture,motion,go_a_long_way,ensky,disengage,contemplate,overpay,reopen,oppress,suppress,crush,hit,reconvert,think,believe,consider,conceive,pump,invigorate,reinvigorate,will,bale,trap,entrap,snare,ensnare,trammel,score,hit,tally,rack_up,liberate,set_free,still,allay,relieve,ease,upgrade,fall,pronounce,articulate,enounce,sound_out,enunciate,say,agree,absorb,assimilate,ingest,take_in,savor,savour,ramify,branch,produce,bring_forth,begin,carry,expostulate,plume,detect,observe,find,discover,notice,look_like,reach,get_through,get_hold_of,contact,fine-tune,tweak,overgrow,grow_over,respond,clear,nominate,put_up,put_forward,splay,purge,deprive,strip,divest,calendar,promise,assure,convert,win_over,convince,sentence,condemn,doom,romp,get_down,begin,get,start_out,start,set_about,set_out,commence,corroborate,underpin,bear_out,support,stock,carry,stockpile,enrich,bail,unclutter,clear,brace,poise,trim,garnish,dress,give,yield,rotate,stoop,trace,declare,twin,duplicate,parallel,yield,give_in,succumb,knuckle_under,buckle_under,dazzle,appreciate,take_account,take_back,repossess,capitalize,capitalise,puncture,flare_out,flare,render,return,pledge,guard,ward,hoard,stash,cache,lay_away,hive_up,squirrel_away,parole,rectify,blueprint,draft,draught,unblock,unfreeze,free,release,distill,extract,distil,deactivate,work,work_on,process,unteach,give,court-martial,forge,spurt,spirt,curry,dado,reinstall,slang,wise_up,soap,lather,live,act,discover,find,billow,surge,heave,add,stick,marcel,compliment,congratulate,publish,write,vindicate,undervalue,lag,dawdle,fall_back,fall_behind,agree,regale,treat,run,give,gutter,plastinate,suffocate,choke,mimeograph,mimeo,gargle,rinse,check,check_up_on,look_into,check_out,suss_out,check_over,go_over,check_into,serve,service,decontaminate,soldier,cheer,face_the_music,carry-the_can,splice,benefit,do_good,inflate,blow_up,expand,amplify,shower,include,approximate,come_close,cash_out,toilet-train,seed,foal,come,deposit,bank,manifold,chink,run_up,remit,model,mock_up,solve,work_out,figure_out,puzzle_out,lick,work,blow_up,enlarge,magnify,take_in,represent,interpret,tan,purge,set,prefer,favor,favour,brace,steady,stabilize,stabilise,bestir,rouse,wall,palisade,fence,fence_in,surround,safeguard,set,kit_out,kit_up,kit,highlight,lay_out,steer,maneuver,manoeuver,manoeuvre,direct,point,head,guide,channelize,channelise,make,gather,average,average_out,sanction,harbor,harbour,ease,volunteer,offer,reseat,convert,sedate,calm,tranquilize,tranquillize,tranquillise,schematize,drive_home,ram_home,press_home,relieve,rout_up,rout_out,give_off,maintain,defend,harness,rein_in,draw_rein,rein,universalize,universalise,reform,straighten_out,see_the_light,be_born,suffix,comparison-shop,overfeed,harmonize,harmonise,reconcile,bill,putty,read,scan,tutor,salt,distribute,redefine,pay,skimp,scant,trespass,take_advantage,ginger,mix,mix_in,take_orders,melodize,melodise,draw,cleat,nitrify,nitrogenize,nitrogenise,set,mark,cram,whet,quicken,design,penetrate,fathom,bottom,co-opt,collocate,rationalize_away,rationalise_away,reharmonize,reharmonise,homologize,institute,bring,wive,rotate,offer,legislate,pass,sharpen,heighten,react,respond,unite,unify,acknowledge,beckon,wave,bankroll,heel,reheel,clock,time,commend,endorse,indorse,reconsider,undertake,guarantee,hold,coinsure,dote,sky_dive,skydive,refund,return,repay,give_back,humor,humour,place,put,set,synthesize,synthesise,bear_up,reward,repay,pay_back,plan,project,contrive,design,possess,perk_up,perk,percolate,pick_up,gain_vigor,assess,spruce_up,spruce,slick_up,smarten_up,clean_up,aphorize,aphorise,give,will,commute,granulate,fall_back,apostrophize,apostrophise,wrench,twist,bud,help,roll_over,exchange,change,interchange,hydrate,lunch,bring_around,cure,heal,scarf,assign,allot,portion,trust,swear,rely,bank,excite,energize,energise,form,constitute,make,garnishee,garnish,rev_up,rev,scruple,work_out,work_up,feed,extrude,squeeze_out,dispread,fret,write_out,write_up,match,gain,gather,mark_up,begin,caucus,fledge,feather,swing,consume,recondition,air-cool,air-condition,concentrate,syndicate,stage_direct,muzzle,breed,multiply,arrange,fix_up,overprotect,foliate,stack,oust,back_up,quarter,advance,set_ahead,plumb,fuse,unpin,leech_onto,configure,check,check_off,mark,mark_off,tick_off,tick,develop,make_grow,treat,accord,allot,grant,cathect,visa,tease,fluff,archive,file_away,unlash,commission,serve,attend_to,wait_on,attend,assist,offer,proffer,leaf,reserve,respect,honor,honour,abide_by,observe,handwrite,call,telephone,call_up,phone,ring,backtrack,turn_back,double_back,pour,commit,practice,refinance,have_it_coming,extend,offer,retract,pull_back,draw_back,profile,ripen,mature,teach,learn,instruct,bail_out,leapfrog,gloss,brattice,get_in,get_into,enable,guarantee,warrant,mastermind,engineer,direct,organize,organise,orchestrate,cube,pry,prise,clear,gild_the_lily,paint_the_lily,landscape,plug,affect,credit,bituminize,bituminise,check,check_out,admit,unlock,differentiate,graph,chart,own,have,possess,tree,shoetree,parallel-park,foist,effect,turn_around,excavate,dig_up,turn_up,grow,presuppose,suppose,adore,flambe,plot,ride_the_bench,warm_the_bench,dabble,smatter,play_around,jump_off,rafter,renovate,restitute,bed,hypostatize,hypostatise,convert,carve_out,unstaple,whelp,pup,refurbish,renovate,freshen_up,poll,raise,bring_up,redeem,ride,bullet_vote,share,divvy_up,portion_out,apportion,deal,place-kick,raise,compensate,recompense,remunerate,bribe,corrupt,buy,grease_one's_palms,schedule,give,dedicate,consecrate,commit,devote,open,open_up,frame,frame_up,sophisticate,navigate,pilot,nurse,come_to_the_fore,step_forward,come_forward,step_up,step_to_the_fore,come_out,desecrate,unhallow,deconsecrate,fill,readjust,readapt,carry,stock,buy_in,stock_up,concede,yield,grant,feather_one's_nest,give,call,harmonize,harmonise,consort,accord,concord,fit_in,agree,consider,take,deal,look_at,dress,dress_out,manufacture,fabricate,construct,rhyme,rime,finger,redevelop,reformulate,treat,care_for,gather,network,choke,throttle,communize,communise,bolshevize,bolshevise,splat,regulate,regularize,regularise,order,govern,click_open,reimburse,rat,scab,answer,yield,relent,soften,ink,cloud,tender,exalt,breed,cover,train,develop,prepare,educate,unburden,unbraid,prorate,free-associate,readjust,reset,certify,endorse,indorse,expose,exhibit,display,concert,stand_guard,stand_watch,keep_guard,stand_sentinel,adhere,stick,identify,deepen,figure,reconstruct,construct,retrace,prop_up,prop,shore_up,shore,vote,fly_open,optimize,optimise,border,edge,modulate,help,facilitate,dazzle,bedazzle,daze,study,meditate,contemplate,telecommunicate,up,copulate,mate,pair,couple,learn,hear,get_word,get_wind,pick_up,find_out,get_a_line,discover,see,pattern,abstract,wire,whistle,salaam,rid,free,disembarrass,reassure,find_oneself,find,lord,foster,further,overpopulate,falsify,top_out,peak,reproduce,procreate,multiply,mention,cite,generate,spin,twin,commune,communicate,supply,provide,render,furnish,brainstorm,work,cover,touch,steep,immerse,engulf,plunge,engross,absorb,soak_up,remove,take_away,hand-pick,prevail,digest,foliate,carry,standardize,standardise,ascend,redetermine,fabricate,manufacture,cook_up,make_up,invent,succor,succour,fathom,sound,hire,engage,employ,republish,take_up,latch_on,fasten_on,hook_on,seize_on,destine,fate,doom,designate,cough_up,pony_up,spit_up,structure,date,mention,advert,bring_up,cite,name,refer,widen,broaden,extend,reset,translate,pardon,general,eagle,understand,infer,proof,give,remember,retrieve,recall,call_back,call_up,recollect,think,recommit,internationalize,internationalise,reconfirm,pickle,cross-link,screen,screen_out,sieve,sort,plan,give_the_eye,give_the_once_over,provide,attract,appeal,work,prepossess,picnic,rescue,deliver,time,dry-dock,drydock,find_out,catch_out,calibrate,graduate,fine-tune,dine,float,mispronounce,misspeak,staff,navigate,mortice,mortise,take,debouch,march_out,rent,hire,charter,lease,stretch,signalize,signalise,inflate,redound,gurgle,wine,regurgitate,speculate,job,crop,armor,armour,rouge,fan,promote,advance,boost,further,encourage,herd,embed,syndicate,contract_in,unchain,raise,lift,mind,tag,add_on,frame,compose,draw_up,clarify,seed,concatenate,reinforce,reward,remake,refashion,redo,make_over,choose,take,select,pick_out,clear,irritate,associate,tie_in,relate,link,colligate,link_up,connect,admit,let_in,include,snowball,refit,cloister,acquire,cork,cork_up,purr,make_vibrant_sounds,halloo,winter,overwinter,gain,advance,win,pull_ahead,make_headway,get_ahead,gain_ground,instrument,instrumentate,outsource,linearize,linearise,match,fit,beckon,smatter,staff,profess,dun,spare,drop,idealize,idealise,change_by_reversal,turn,reverse,harmonize,harmonise,chord,assign,crouch,stoop,bend,bow,think_the_world_of,digest,endure,stick_out,stomach,bear,stand,tolerate,support,brook,abide,suffer,put_up,supplement,bejewel,jewel,hospitalize,hospitalise,write,drop_a_line,barnstorm,splat,burgeon,catch,synchronize,synchronise,sync,turn,tell,lobby,buttonhole,nick,hold_the_line,douche,establish,give,assign,specify,set_apart,suspect,surmise,rough_in,rough,rough_out,clone,adhere,pray,recalculate,shoot,handicap,work,do_work,intrude,obtrude,prearrange,resew,prove_oneself,call,experience,see,go_through,sensitize,sensitise,admit,allow,justify,vindicate,hold_one's_own,machine,underpay,draw_away,heliograph,practice,practise,exercise,do,brainwash,isolate,beg,fair,adopt,borrow,take_over,take_up,feed_on,feed_upon,educe,evoke,elicit,extract,draw_out,soar,tenure,spark,sparkle,bring_round,bring_around,abstract,constitute,represent,make_up,comprise,be,settle,draw_up,toggle,capitalize,capitalise,deify,rule,decree,realize,realise,set_up,lay_out,set,condition,victual,advertise,advertize,promote,push,skin_over,blossom,blossom_out,blossom_forth,unfold,refine,obtain,cut,burn,incline,construct,refuel,hunker_down,play,dub,nickname,glass,glaze,tongue,sonnet,shampoo,recuperate,partner,develop,elicit,percuss,fructify,collect,take_in,politick,sell,auspicate,miniate,guarantee,vouch,find,round,flesh_out,fill_out,inspect,juggle,cleanse,spend,pass,give,evangelize,evangelise,underproduce,reinvent,insure,admeasure,think_of,repute,regard_as,look_upon,look_on,esteem,take_to_be,audition,try_out,sovietize,sovietise,scale,groin,chop,govern,rule,say_farewell,steer,consecrate,bless,hallow,sanctify,ordain,enact,keynote,right,sell_short,conserve,absolve,justify,free,overarch,receive,insulate,terrace,terrasse,unbend,tinker,barter_away,decree,notice,acknowledge,dash_off,scratch_off,knock_off,toss_off,fling_off,provision,purvey,defray,scallop,escallop,tube,reecho,underpin,lyric,ace,proliferate,nod,hold,support,sustain,hold_up,design,charter,begin,emcee,compere,rig,set,set_up,till,turn_the_tables,turn_the_tide,hunt,crossruff,blast,shell,fund,make,make_up,charm,influence,tempt,expedite,hasten,think_up,think_of,dream_up,hatch,concoct,co-opt,react,oppose,double-park,refocus,glom,see,approbate,raise,smell,smell_out,sense,legitimate,grow_up,foot,pick,do_up,hatch,patent,furnish,reform,paragraph,mongrelize,mongrelise,get_well,get_over,bounce_back,elect,distrain,buy_into,deliver,drive_home,send_a_message,calve,have_young,create,consume,squander,waste,ware,delouse,reciprocate,arrive,get,come,wield,exert,maintain,alien,alienate,dateline,datemark,date-mark,create,make,support,back_up,open,open_up,reseed,explode,irrupt,refrigerate,zone,district,ranch,doll_up,do_up,pretty_up,glam_up,triangulate,feminize,feminise,effeminize,effeminise,womanize,stroke,about-face,extrapolate,transgress,award,present,riddle,prod,incite,egg_on,reduce,rearrange,call_in,incorporate,monitor,supervise,freelance,return,do_well,had_best,button,conceal,hold_back,hold_in,pomade,co-star,surfeit,cloy,foredoom,systematize,systematise,systemize,systemise,answer,serve,function,rotate,total,tot,tot_up,sum,sum_up,summate,tote_up,add,add_together,tally,add_up,give,apply,align,ordinate,coordinate,lard,praise,hole_up,truss,turn_thumbs_down,vote_down,earn,garner,declare,confirm,reassert,syncopate,befuddle,fuddle,think,let_it_go,salute,present,back,bromate,brominate,dilate,distend,run_away,chelate,house,put_up,domiciliate,unclothe,assume,take,strike,take_up,zoom_in,ache,yearn,yen,pine,languish,catch,fund,quintuple,accept,correspond,soft-soap,exist,be,braid,address,accost,come_up_to,work_through,run_through,go_through,vegetate,spin,sanitate,slum,educate,school,train,cultivate,civilize,civilise,illuminate,write_copy,reek,spin_off,roller_skate,impart,leave,give,pass_on,trip_up,catch,accelerate,speed_up,speed,quicken,criticize,criticise,spare,give_up,part_with,dispense_with,quest_for,go_after,quest_after,pursue,loft,explicate,formulate,develop,gauffer,goffer,double,duplicate,abound_in,teem_in,pullulate_with,see_through,resolve,solve,feed,film-make,interpose,cover,insure,underwrite,smut,please,witness,find,see,color,colour,gloss,google,concoct,cook_up,swing,ping,capacitate,wax,full,puff_up,answer,get_cracking,bestir_oneself,get_going,get_moving,get_weaving,get_started,get_rolling,hymn,triangulate,shop,foliate,corduroy,inherit,clear,subtract,deduct,take_off,copy,re-create,extend,expand,make_a_point,make_sure,pipe,trace,follow,accredit,recognize,recognise,bestialize,bestialise,recombine,slop,swill,crack_up,have_a_ball,have_a_good_time,letter,declare,conn,feast_one's_eyes,perfect,hone,have,feature,free,liberate,release,unloose,unloosen,loose,sign,subscribe,culture,misread,misinterpret,panel,look_out,snag,stand,win,crop,graze,pasture,plan,be_after,stand_back,keep_one's_eyes_off,keep_one's_distance,keep_one's_hands_off,stay_away,bull,wire,throne,cruise,test,prove,try,try_out,examine,essay,stand,stand_up,ennoble,dignify,fuel,take_a_bow,snap_back,hypertrophy,sojourn,watch,observe,follow,watch_over,keep_an_eye_on,grind_out,crank_out,eke_out,squeeze_out,prefer,complicate,refine,rarify,elaborate,spirit,spirit_up,inspirit,crusade,fight,press,campaign,push,agitate,lipstick,keep,piggyback,depute,deputize,deputise,spew,spew_out,eruct,verse,versify,poetize,poetise,follow_suit,wharf,audit,scrutinize,scrutinise,inspect,square,calculate,aim,direct,back,housebreak,house-train,confect,animate,recreate,reanimate,revive,renovate,repair,quicken,vivify,revivify,trumpet,re-equip,rejig,stopper,stopple,fingerspell,finger-spell,suit,range,block_out,resist,reject,refuse,shell,corn,turn_a_nice_dime,turn_a_nice_penny,turn_a_nice_dollar,decommission,approbate,railroad,revive,shellac,shellack,expand,pay_up,ante_up,pay,calibrate,run,go,pass,lead,extend,shelter,wink,window-shop,rejuvenate,stand_for,hold_still_for,jot_down,jot,tumble,baronetize,baronetise,glorify,stand_out,write_up,twin,consummate,compromise,empanel,impanel,panel,nurse,disrespect,disesteem,sail,rubricate,reissue,take,administer,dispense,bring,convey,take,clear_the_throat,hawk,settle,grind,resinate,scale,hectograph,sieve_out,pick_over,profess,pretend,entrance,spellbind,unpick,uphold,encrust,incrust,beset,bootleg,minister,carry,perceive,unplug,disconnect,recover,recoup,recuperate,show,demo,exhibit,present,demonstrate,dampen,direct,redeposit,circumvallate,bewhisker,whisker,subtilize,subtilise,patent,cash_in_on,color,colour,cram,grind_away,drum,bone_up,swot,get_up,mug_up,swot_up,bone,redouble,play,check,pension,pension_off,induce,sign,signal,signalize,signalise,bootstrap,brim,resuspend,define,stall,expect,anticipate,regulate,modulate,work,snowboard,underwrite,subvention,subvent,coat,cake,dress,arrange,set,do,coif,coiffe,coiffure,convert,trim,cover,choose_up,greet,ream,homestead,permute,commute,transpose,release,free,liberate,retouch,sense,theme,tool,salvage,salve,relieve,save,advance,gain,accommodate,involve,interrelate,make,gross,sporulate,joke,jest,tinker,fiddle,pinpoint,nail,heal,addle,muddle,puddle,give,scrub,scrub_up,pullulate,carry,convey,express,fructify,skipper,censor,qualify,dispose,clear,evolve,articulate,commend,recommend,subject,conduct,carry_on,deal,interpolate,extrapolate,churn_out,adopt,follow,espouse,count,bet,depend,look,calculate,reckon,reform,walk,compound,leave,allow_for,allow,provide,offset,countervail,idealize,idealise,liquidate,write_in,instantiate,creosote,labor,labour,toil,fag,travail,grind,drudge,dig,moil,kern,map,map_out,bloom,blossom,flower,luxuriate,hope,go_for,take_over,buy_out,buy_up,sublet,sublease,conclude,resolve,flag,slate,fix_up,browse,surf,build,establish,scale_down,fringe,re-create,date,date_stamp,expect,look,await,wait,feed,feast,excite,mean,collect,pick_up,gather_up,call_for,ascend,bow,carboxylate,ride,grab,sponge_down,slick,sleek,collaborate,join_forces,cooperate,get_together,bring_to_bear,prelude,refresh,freshen,lead_up,initiate,accept,sole,resole,gauge,divaricate,bear,hold,open,develop,drill,swear_off,dream,daydream,woolgather,stargaze,modernize,modernise,develop,officer,bunker,stock,distribute,give_out,hand_out,pass_out,extract,school,unharness,cantilever,intuit,address,call,coach,train,see,consider,reckon,view,regard,animize,animise,animate,poll,write_off,reverberate,dispose_of,give,throw,counterpoint,rate,value,unearth,dispense,caption,beget,get,engender,father,mother,sire,generate,bring_forth,blur,introduce,innovate,concentrate,focus,center,centre,pore,rivet,run,unbelt,dedifferentiate,clinker,pay_cash,come_of_age,vote_in,rebate,quicken,invigorate,mature,specify,set,determine,define,fix,limit,literalize,literalise,admit,allow_in,let_in,intromit,undernourish,malnourish,plant,implant,exist,survive,live,subsist,champion,defend,involve,set,equalize,equalise,get_even,double-glaze,clear,solve,abandon,give_up,raid,wallow,believe,legalize,legalise,decriminalize,decriminalise,legitimize,legitimise,legitimate,legitimatize,legitimatise,redesign,harmonize,harmonise,put_on,reclaim,repossess,recommend,urge,advocate,charm,punctuate,mark,yoke,pioneer,open_up,kick_back,like,corrupt,pervert,subvert,demoralize,demoralise,debauch,debase,profane,vitiate,deprave,misdirect,pulse,pulsate,fawn,write_out,issue,make_out,cut,catch,rake_off,neck,make_out,etymologize,etymologise,reify,sit,switch_over,switch,exchange,raise,allow,grant,invoke,appeal,have_a_bun_in_the_oven,bear,carry,gestate,expect,occasion,do,make,pin,boom,boom_out,barter,pan_out,lengthen,form,organize,organise,vow,consecrate,plug_away,peg_away,slog,keep_one's_nose_to_the_grindstone,keep_one's_shoulder_to_the_wheel,carry,catechize,catechise,parallel,wangle,finagle,manage,compliment,foil,carry,prefabricate,preassemble,bottom,stick_to,stick_with,follow,emblazon,blazon,telex,produce,make,create,give,yield,commission,suck,bolster,warm_up,anoint,conserve,tune,tune_up,meet_up_with,join,fall_in,get_together,barber,detail,excuse,explain,camp,look,catch_up,reconvict,tense,fruit,steel,nerve,shoot,predestine,retrofit,applique,obligate,gin,coarsen,bring_to,bring_back,bring_round,bring_around,catch,get,beaver,beaver_away,project,take_out,nuzzle,dragoon,anodize,anodise,supplement,desire,want,festoon,stool,tiller,guess,venture,pretend,hazard,clear,regenerate,revitalize,keep,philosophize,philosophise,assent,accede,acquiesce,raise,speak_up,activate,aerate,touch_up,retouch,spin,spin_out,trust,foot,foot_up,cross_oneself,corner,reprise,reprize,repeat,recapitulate,block,impart,conduct,transmit,convey,carry,channel,know,experience,live,franchise,disinter,exhume,puzzle_over,enlarge,surmise,enter_upon,come_upon,luck_into,govern,cut_back,flash_back,stool,accept,live_with,swallow,sibilate,get,ammoniate,profess,design,plan\"]"
      ]
     },
     "execution_count": 41,
     "metadata": {},
     "output_type": "execute_result"
    }
   ],
   "source": [
    "pos_words"
   ]
  },
  {
   "cell_type": "code",
   "execution_count": 42,
   "metadata": {
    "collapsed": true
   },
   "outputs": [],
   "source": [
    "#Create a dataframe for all positive words with a hard-coded polarity of 1\n",
    "pos_df = pd.DataFrame([w.split(',') for w in pos_words]).transpose()\n",
    "pos_df.rename(columns={0:'word'},inplace=True)\n",
    "pos_df['polarity'] = 1"
   ]
  },
  {
   "cell_type": "code",
   "execution_count": 43,
   "metadata": {
    "collapsed": false
   },
   "outputs": [
    {
     "data": {
      "text/html": [
       "<div>\n",
       "<table border=\"1\" class=\"dataframe\">\n",
       "  <thead>\n",
       "    <tr style=\"text-align: right;\">\n",
       "      <th></th>\n",
       "      <th>word</th>\n",
       "      <th>polarity</th>\n",
       "    </tr>\n",
       "  </thead>\n",
       "  <tbody>\n",
       "    <tr>\n",
       "      <th>0</th>\n",
       "      <td>profiteer</td>\n",
       "      <td>1</td>\n",
       "    </tr>\n",
       "    <tr>\n",
       "      <th>1</th>\n",
       "      <td>turn_around</td>\n",
       "      <td>1</td>\n",
       "    </tr>\n",
       "    <tr>\n",
       "      <th>2</th>\n",
       "      <td>pick_up</td>\n",
       "      <td>1</td>\n",
       "    </tr>\n",
       "    <tr>\n",
       "      <th>3</th>\n",
       "      <td>thrive</td>\n",
       "      <td>1</td>\n",
       "    </tr>\n",
       "    <tr>\n",
       "      <th>4</th>\n",
       "      <td>prosper</td>\n",
       "      <td>1</td>\n",
       "    </tr>\n",
       "  </tbody>\n",
       "</table>\n",
       "</div>"
      ],
      "text/plain": [
       "          word  polarity\n",
       "0    profiteer         1\n",
       "1  turn_around         1\n",
       "2      pick_up         1\n",
       "3       thrive         1\n",
       "4      prosper         1"
      ]
     },
     "execution_count": 43,
     "metadata": {},
     "output_type": "execute_result"
    }
   ],
   "source": [
    "pos_df.head()"
   ]
  },
  {
   "cell_type": "code",
   "execution_count": 44,
   "metadata": {
    "collapsed": true
   },
   "outputs": [],
   "source": [
    "#Cool.  Now the same for negative and neutral words"
   ]
  },
  {
   "cell_type": "code",
   "execution_count": 45,
   "metadata": {
    "collapsed": true
   },
   "outputs": [],
   "source": [
    "neg_words = [','.join(neg['word'].values)]\n",
    "neg_df = pd.DataFrame([w.split(',') for w in neg_words]).transpose()\n",
    "neg_df.rename(columns={0:'word'},inplace=True)\n",
    "neg_df['polarity'] = -1\n",
    "\n",
    "nul_words = [','.join(nul['word'].values)]\n",
    "nul_df = pd.DataFrame([w.split(',') for w in nul_words]).transpose()\n",
    "nul_df.rename(columns={0:'word'},inplace=True)\n",
    "nul_df['polarity'] = 0"
   ]
  },
  {
   "cell_type": "code",
   "execution_count": 46,
   "metadata": {
    "collapsed": true
   },
   "outputs": [],
   "source": [
    "#Now we just need a way to match words in the dialogue to words in each wordbank/word dataframe"
   ]
  },
  {
   "cell_type": "code",
   "execution_count": 47,
   "metadata": {
    "collapsed": false
   },
   "outputs": [],
   "source": [
    "#get_score() takes a list of tokens and assesses their net polarity\n",
    "#i.e. a list containing ['this','is','bad','bad','bad'] will likely have a score of -3\n",
    "def get_score(tokens):\n",
    "    score = 0\n",
    "\n",
    "    for t in tokens:\n",
    "        if t.lower() in pos_df['word'].values:\n",
    "            score += 1\n",
    "\n",
    "        if t.lower() in neg_df['word'].values:\n",
    "            score -= 1\n",
    "\n",
    "    return score"
   ]
  },
  {
   "cell_type": "markdown",
   "metadata": {},
   "source": [
    "# Go ahead and test get_score(), but need to fix for contractions"
   ]
  },
  {
   "cell_type": "code",
   "execution_count": 48,
   "metadata": {
    "collapsed": false,
    "scrolled": true
   },
   "outputs": [
    {
     "name": "stdout",
     "output_type": "stream",
     "text": [
      "('01e01', 225)\n",
      "('01e02', 164)\n",
      "('01e03', 208)\n",
      "('01e04', 283)\n",
      "('01e05', 302)\n",
      "('01e06', 223)\n",
      "('01e07', 275)\n",
      "('01e08', 241)\n",
      "('01e09', 261)\n",
      "('01e10', 245)\n",
      "('02e01', 361)\n",
      "('02e02', 350)\n",
      "('02e03', 264)\n",
      "('02e04', 296)\n",
      "('02e05', 358)\n",
      "('02e06', 323)\n",
      "('02e07', 364)\n",
      "('02e08', 280)\n",
      "('02e09', 253)\n",
      "('02e10', 341)\n",
      "('03e01', 330)\n",
      "('03e02', 323)\n",
      "('03e03', 313)\n",
      "('03e04', 240)\n",
      "('03e05', 319)\n",
      "('03e06', 267)\n",
      "('03e07', 371)\n",
      "('03e08', 293)\n",
      "('03e09', 269)\n",
      "('03e10', 301)\n",
      "('04e01', 312)\n",
      "('04e02', 307)\n",
      "('04e03', 364)\n",
      "('04e04', 248)\n",
      "('04e05', 252)\n",
      "('04e06', 272)\n",
      "('04e07', 258)\n",
      "('04e08', 237)\n",
      "('04e09', 143)\n",
      "('04e10', 192)\n",
      "('05e01', 251)\n",
      "('05e02', 260)\n",
      "('05e03', 316)\n",
      "('05e04', 212)\n",
      "('05e05', 241)\n",
      "('05e06', 223)\n",
      "('05e07', 246)\n",
      "('05e08', 232)\n",
      "('05e09', 234)\n",
      "('05e10', 117)\n",
      "('06e01', 127)\n",
      "('06e02', 168)\n",
      "('06e03', 238)\n",
      "('06e04', 268)\n",
      "('06e05', 275)\n",
      "('06e06', 215)\n",
      "('06e07', 241)\n",
      "('06e08', 272)\n",
      "('06e09', 186)\n",
      "('06e10', 243)\n"
     ]
    }
   ],
   "source": [
    "sentiment = []\n",
    "\n",
    "for url in all_urls(seasons,episodes):\n",
    "\n",
    "    filename = 'got_script_' + str(url[-5:]) + '.txt'\n",
    "    with open(filename, 'r') as f:\n",
    "        text = f.read()\n",
    "        tokens = tokenize_got_script(text.decode('utf-8'))\n",
    "        score = get_score(tokens)\n",
    "        entry = (str(url[-5:]), score)\n",
    "        try:\n",
    "            sentiment.append(entry)\n",
    "        except Exception:\n",
    "            pass\n",
    "        \n",
    "        print entry"
   ]
  },
  {
   "cell_type": "code",
   "execution_count": 12,
   "metadata": {
    "collapsed": true
   },
   "outputs": [],
   "source": [
    "sent_df = pd.DataFrame(sentiment)\n",
    "sent_df.columns = ['episode','sentiment']\n",
    "sent_df['epID'] = [x[1] + x[3:] for x in sent_df['episode']]\n",
    "sent_df[['epID','sentiment']].to_csv('got_sentiment.csv',index=False)"
   ]
  },
  {
   "cell_type": "code",
   "execution_count": 13,
   "metadata": {
    "collapsed": false
   },
   "outputs": [
    {
     "data": {
      "text/plain": [
       "<matplotlib.axes._subplots.AxesSubplot at 0x10d9e3c10>"
      ]
     },
     "execution_count": 13,
     "metadata": {},
     "output_type": "execute_result"
    },
    {
     "data": {
      "image/png": "[encoded data removed]",
      "text/plain": [
       "<matplotlib.figure.Figure at 0x11654b550>"
      ]
     },
     "metadata": {},
     "output_type": "display_data"
    }
   ],
   "source": [
    "sent_df.plot(x='epID',y='sentiment')"
   ]
  },
  {
   "cell_type": "code",
   "execution_count": 14,
   "metadata": {
    "collapsed": true
   },
   "outputs": [],
   "source": [
    "table = 'token_sentiment'"
   ]
  },
  {
   "cell_type": "code",
   "execution_count": 16,
   "metadata": {
    "collapsed": false
   },
   "outputs": [],
   "source": [
    "import sqlite3\n",
    "conn = sqlite3.connect('got.db')\n",
    "c = conn.cursor()\n",
    "sent_df.to_sql(table,conn)\n",
    "conn.commit()\n",
    "conn.close()"
   ]
  },
  {
   "cell_type": "code",
   "execution_count": 1,
   "metadata": {
    "collapsed": true
   },
   "outputs": [],
   "source": [
    "import os"
   ]
  },
  {
   "cell_type": "code",
   "execution_count": null,
   "metadata": {
    "collapsed": true
   },
   "outputs": [],
   "source": [
    "os.get"
   ]
  },
  {
   "cell_type": "code",
   "execution_count": null,
   "metadata": {
    "collapsed": true
   },
   "outputs": [],
   "source": [
    "puncts = ['\\'','\"','?','.',',',':',';','-','!','\\'\\'']\n",
    "\n",
    "contractions = {'\\'m':'am','\\'re':'are','\\'ve':'have','\\'d':'would','\\'ll':'will'}"
   ]
  }
 ],
 "metadata": {
  "kernelspec": {
   "display_name": "Python 2",
   "language": "python",
   "name": "python2"
  },
  "language_info": {
   "codemirror_mode": {
    "name": "ipython",
    "version": 2
   },
   "file_extension": ".py",
   "mimetype": "text/x-python",
   "name": "python",
   "nbconvert_exporter": "python",
   "pygments_lexer": "ipython2",
   "version": "2.7.11"
  }
 },
 "nbformat": 4,
 "nbformat_minor": 0
}
